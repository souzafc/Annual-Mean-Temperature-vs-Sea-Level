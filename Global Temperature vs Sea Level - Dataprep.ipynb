{
    "cells": [
        {
            "cell_type": "code",
            "execution_count": 90,
            "id": "088e5202",
            "metadata": {},
            "outputs": [],
            "source": "# Annual Mean Temperature vs Sea Level - Data Preparation\n# This is a personal project using data from Nasa and sealevel.info.\n# Here we are trying to have some perspective on the effect of the raising in global temperatures in the sea level.\n# Of course, there are many other factors involved in the rise of the sea level, but this is just a simplification, not validated.\n# Fabio Cardoso - Jan/2022"
        },
        {
            "cell_type": "code",
            "execution_count": 91,
            "id": "950592a1",
            "metadata": {},
            "outputs": [],
            "source": "# Imports\n\nimport json\nimport numpy as np\nimport pandas as pd\nfrom datetime import datetime\nfrom pandas.io.json import json_normalize\n\n#pipeline e modeling libraries\n!pip install sklearn2pmml\n!pip install pypmml\n!pip install sklearn-pandas\nfrom sklearn.linear_model import LinearRegression\nfrom joblib import dump, load\nfrom sklearn2pmml.pipeline import PMMLPipeline\nfrom sklearn2pmml import sklearn2pmml\nfrom pypmml import Model\nfrom sklearn_pandas import DataFrameMapper"
        },
        {
            "cell_type": "code",
            "execution_count": null,
            "id": "9ed1cbf9",
            "metadata": {},
            "outputs": [],
            "source": "# The code was removed by Watson Studio for sharing."
        },
        {
            "cell_type": "code",
            "execution_count": 92,
            "id": "amateur-substance",
            "metadata": {},
            "outputs": [],
            "source": "# Storage access instantiation\n\nimport types\nimport pandas as pd\nimport ibm_boto3\nfrom botocore.client import Config\n\ndef __iter__(self): return 0\n\ncnx_fcsinsights_client = ibm_boto3.client(\n    service_name = 's3',\n    ibm_api_key_id = parm1_ibm_api_key_id,\n    ibm_service_instance_id = parm1_ibm_service_instance_id,\n    ibm_auth_endpoint = parm1_ibm_auth_endpoint,\n    config=Config(signature_version='oauth'),\n    endpoint_url = parm1_endpoint_url)"
        },
        {
            "cell_type": "code",
            "execution_count": 93,
            "id": "general-concord",
            "metadata": {},
            "outputs": [],
            "source": "# Local data\n\ncnx_local = ibm_boto3.client(service_name='s3',\n    ibm_api_key_id = parm2_ibm_api_key_id,\n    ibm_auth_endpoint = parm2_ibm_auth_endpoint,\n    config=Config(signature_version='oauth'),\n    endpoint_url = parm2_endpoint_url)\n\nbucket_local = parm2_bucket_local"
        },
        {
            "cell_type": "code",
            "execution_count": 94,
            "id": "5b92f5e6",
            "metadata": {},
            "outputs": [],
            "source": "# Download files\n\nfile_temps_in  = 'Global Historical Temperatures - giss.nasa.gov.txt'\nfile_temps_out = 'Global Historical Temperatures - giss.nasa.gov.csv'\n\nfile_tides_in  = 'sealevel.infodata_8443970_data.json'\nfile_tides_out = 'Boston Historical Mean Sea Level (MSL).csv'\n\nbucket_in = parm1_bucket_in\nbucket_out = parm1_bucket_out\n\ncnx_fcsinsights_client.download_file(Bucket=bucket_in, Filename=file_temps_in, Key=file_temps_in)\ncnx_fcsinsights_client.download_file(Bucket=bucket_in, Filename=file_tides_in, Key=file_tides_in)"
        },
        {
            "cell_type": "code",
            "execution_count": 95,
            "id": "3043f175",
            "metadata": {},
            "outputs": [],
            "source": "# Extracting historical global temperatures.\n# sources: https://data.giss.nasa.gov/gistemp/graphs_v4/graph_data/Temperature_Change_for_Three_Latitude_Bands/graph.txt\n# Note: Boston is in the 24N-90N band.\n\nf_temps_in = open(file_temps_in, mode='r')\nf_temps_out = open(file_temps_out, mode='w')\n\neof = False\nlin_nr = 0\nwhile not eof:\n    lin = f_temps_in.readline()\n    if lin=='':\n        eof = True\n    else:\n        lin_nr +=1\n        \n        if lin_nr >= 10:\n            if lin_nr == 10:\n                f_temps_out.write(\"Year,Global,Lat_24N_90N\\n\")\n            year = lin[:4]\n            glob = lin[7:11]\n            lat_24n_90n = lin[26:30] \n            lin_out = year + ', ' + glob + ', ' + lat_24n_90n + '\\n'\n            f_temps_out.write(lin_out)\nf_temps_in.close()\nf_temps_out.close()"
        },
        {
            "cell_type": "code",
            "execution_count": 97,
            "id": "adaptive-olympus",
            "metadata": {},
            "outputs": [],
            "source": "# Extracting Boston historical sea level\n# Source: https://sealevel.info/MSL_graph.php?id=8443970\n# Note: see concept of sea level and metonic cycle in\n# https://www.nationalgeographic.org/encyclopedia/sea-level/#:~:text=In%20the%20United%20States%20and,is%20called%20a%20Metonic%20cycle.\n\nwith open(file_tides_in) as json_data:\n    data = json.load(json_data)\n    \ndf_tides = pd.DataFrame(data['msl_data'], columns=data['msl_headers'])\ndf_tides.to_csv(file_tides_out)"
        },
        {
            "cell_type": "code",
            "execution_count": 98,
            "id": "4e2c625a",
            "metadata": {},
            "outputs": [],
            "source": "# Prepare temperatures data\n\ndf_temps = pd.read_csv(file_temps_out)\ndf_temps['Global'] = df_temps['Global'].rolling(3, center=False).mean()\ndf_temps['Lat_24N_90N'] = df_temps['Lat_24N_90N'].rolling(3, center=False).mean()\ndf_temps.dropna(inplace=True)\ndf_temps.to_csv(file_temps_out) #saving for spss"
        },
        {
            "cell_type": "code",
            "execution_count": 99,
            "id": "69797030",
            "metadata": {},
            "outputs": [],
            "source": "# Prepare tides data\n\ndf_tides = pd.read_csv(file_tides_out)\ndf_tides.replace('NaN',np.nan, inplace=True)\ndf_tides['Data'] = df_tides[['year','month']].apply(lambda r: datetime(r['year'],r['month'],1), axis=1).astype('datetime64[M]')\ndf_tides.set_index('Data', inplace=True)\ndf_tides = df_tides.resample('A').mean()\ndf_tides['Year'] = df_tides.index.year.values\ndf_tides.set_index('Year', inplace=True)\ndf_tides.rename(columns={'NOAA_adjusted_MSL':'Mean Sea Level'}, inplace=True) #compatibilization with old column name\ndf_tides = df_tides[['Mean Sea Level']].copy()\ndf_tides['Mean Sea Level'] = df_tides['Mean Sea Level'].interpolate()\n#df_tides['Mean Sea Level'] = df_tides['Mean Sea Level'].rolling(3, center=False).mean() #better to not roll to be trained with the metonic cycle (19 autoregression points)\ndf_tides.dropna(inplace=True)\ndf_tides.to_csv(file_tides_out) #saving for spss"
        },
        {
            "cell_type": "code",
            "execution_count": 100,
            "id": "monetary-allah",
            "metadata": {},
            "outputs": [],
            "source": "# Upload treated files\n\ncnx_fcsinsights_client.upload_file(Bucket=bucket_out, Filename=file_temps_out, Key=file_temps_out)\ncnx_fcsinsights_client.upload_file(Bucket=bucket_out, Filename=file_tides_out, Key=file_tides_out)"
        },
        {
            "cell_type": "code",
            "execution_count": 25,
            "id": "committed-horizon",
            "metadata": {},
            "outputs": [
                {
                    "data": {
                        "text/plain": "array([4.23872526])"
                    },
                    "execution_count": 25,
                    "metadata": {},
                    "output_type": "execute_result"
                }
            ],
            "source": "# Regression - mean temperature at the location vs sea level\n\ndf_merge = df_temps.merge(df_tides, how='inner', on='Year')\nmod = LinearRegression()\nnug = mod.fit(df_merge[['Lat_24N_90N']], df_merge['Mean Sea Level'])\ndump(nug,'nug1.nug')\nnug1 = load('nug1.nug')\nnug1.predict([[10]])"
        },
        {
            "cell_type": "code",
            "execution_count": 26,
            "id": "united-aspect",
            "metadata": {},
            "outputs": [
                {
                    "name": "stderr",
                    "output_type": "stream",
                    "text": "/opt/conda/envs/Python-3.8-main/lib/python3.8/subprocess.py:848: RuntimeWarning: line buffering (buffering=1) isn't supported in binary mode, the default buffer size will be used\n  self.stdout = io.open(c2pread, 'rb', bufsize)\n/opt/conda/envs/Python-3.8-main/lib/python3.8/subprocess.py:853: RuntimeWarning: line buffering (buffering=1) isn't supported in binary mode, the default buffer size will be used\n  self.stderr = io.open(errread, 'rb', bufsize)\n"
                },
                {
                    "data": {
                        "text/plain": "[[4.238725260710763]]"
                    },
                    "execution_count": 26,
                    "metadata": {},
                    "output_type": "execute_result"
                }
            ],
            "source": "# Simple pipeline (just the regression model in it) - temperature at the location vs sea level\n\npipeline = PMMLPipeline([(\"lr\", LinearRegression())])\npipeline.fit(df_merge[['Lat_24N_90N']], df_merge['Mean Sea Level'])\nsklearn2pmml(pipeline, \"lr1.pmml\", )\npipeline1 = Model.fromFile('lr1.pmml')\npipeline1.predict([[10]])"
        },
        {
            "cell_type": "code",
            "execution_count": 27,
            "id": "timely-popularity",
            "metadata": {},
            "outputs": [],
            "source": "# Uploading pipeline\n# After uploading, this model must be promoted and published as a service.\n\ncnx_local.upload_file(Bucket=bucket_local, Filename='lr1.pmml', Key='lr1.pmml')"
        },
        {
            "cell_type": "code",
            "execution_count": 1,
            "id": "brazilian-certificate",
            "metadata": {},
            "outputs": [
                {
                    "name": "stdout",
                    "output_type": "stream",
                    "text": "ok\n"
                }
            ],
            "source": "print('ok')"
        }
    ],
    "metadata": {
        "kernelspec": {
            "display_name": "Python 3.9",
            "language": "python",
            "name": "python3"
        },
        "language_info": {
            "codemirror_mode": {
                "name": "ipython",
                "version": 3
            },
            "file_extension": ".py",
            "mimetype": "text/x-python",
            "name": "python",
            "nbconvert_exporter": "python",
            "pygments_lexer": "ipython3",
            "version": "3.9.7"
        }
    },
    "nbformat": 4,
    "nbformat_minor": 5
}