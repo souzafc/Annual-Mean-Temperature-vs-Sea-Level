{
    "cells": [
        {
            "cell_type": "code",
            "execution_count": null,
            "metadata": {},
            "outputs": [],
            "source": "# Annual Mean Temperature vs Sea Level - Data Preparation\n# This is a personal project using data from Nasa and sealevel.info.\n# Here we are trying to have some perspective on the effect of the raising in global temperatures in the sea level.\n# Of course, there are many other factors involved in the rise of the sea level, but this is just a simplification, not validated.\n# Fabio Cardoso - Jan/2022"
        },
        {
            "cell_type": "code",
            "execution_count": null,
            "metadata": {},
            "outputs": [],
            "source": "# Parameters\n\ntemperatures = [[10], [20], [30]] #list of mean annual temperatures in order to predict the sea level of each value."
        },
        {
            "cell_type": "code",
            "execution_count": null,
            "metadata": {},
            "outputs": [],
            "source": "import urllib3, requests, json"
        },
        {
            "cell_type": "code",
            "execution_count": null,
            "metadata": {},
            "outputs": [],
            "source": "# The code was removed by Watson Studio for sharing."
        },
        {
            "cell_type": "code",
            "execution_count": null,
            "metadata": {},
            "outputs": [],
            "source": "# Attention: Service must be published\n\nAPI_KEY = parm_API_KEY\ntoken_response = requests.post('https://iam.cloud.ibm.com/identity/token', data={\"apikey\": API_KEY, \"grant_type\": 'urn:ibm:params:oauth:grant-type:apikey'})\nmltoken = token_response.json()[\"access_token\"]\n\nheader = {'Content-Type': 'application/json', 'Authorization': 'Bearer ' + mltoken}\n\npayload_scoring = {\"input_data\": [{\"fields\": ['Lat_24N_90N'], \"values\": temperatures}]}\n\nresponse_scoring = requests.post(parm_request, json=payload_scoring, headers={'Authorization': 'Bearer ' + mltoken})\nprint(\"Scoring response\")\nprint(response_scoring.json())"
        }
    ],
    "metadata": {
        "kernelspec": {
            "display_name": "Python 3.9",
            "language": "python",
            "name": "python3"
        },
        "language_info": {
            "codemirror_mode": {
                "name": "ipython",
                "version": 3
            },
            "file_extension": ".py",
            "mimetype": "text/x-python",
            "name": "python",
            "nbconvert_exporter": "python",
            "pygments_lexer": "ipython3",
            "version": "3.9.7"
        }
    },
    "nbformat": 4,
    "nbformat_minor": 1
}